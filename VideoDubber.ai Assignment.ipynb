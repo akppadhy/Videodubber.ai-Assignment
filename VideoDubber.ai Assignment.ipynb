{
 "cells": [
  {
   "cell_type": "code",
   "execution_count": 26,
   "id": "3b2997ab",
   "metadata": {},
   "outputs": [],
   "source": [
    "import requests\n",
    "from bs4 import BeautifulSoup\n",
    "\n",
    "url = 'https://theresanaiforthat.com/saved/'\n",
    "html = requests.get(url)\n",
    "\n",
    "s = BeautifulSoup(html.content, 'html.parser')\n",
    "\n",
    "results = s.find_all('div', class_='ai_content')\n",
    "\n",
    "job_title = []\n",
    "for result in results:\n",
    "    job = result.find('li', class_='data-name')\n",
    "    if job:\n",
    "        job_title.append(job.text)\n",
    "\n",
    "for job in job_title:\n",
    "    print(job)"
   ]
  },
  {
   "cell_type": "code",
   "execution_count": 27,
   "id": "1270777f",
   "metadata": {},
   "outputs": [],
   "source": [
    "#Webscrapped data of Saved AI names and no. of saves\n",
    "\n",
    "Saved_ai = [\n",
    "    {\"name\": \"StableLM Zephyr 3B\", \"saves\": 16},\n",
    "    {\"name\": \"Casablanca\", \"saves\": 50},\n",
    "    {\"name\": \"Beloga\", \"saves\": 96},\n",
    "    {\"name\": \"AutoDubber\", \"saves\": 232},\n",
    "    {\"name\": \"VideoDubber\", \"saves\": 382},\n",
    "    {\"name\": \"ResumeBuild\", \"saves\": 73}\n",
    "]"
   ]
  },
  {
   "cell_type": "code",
   "execution_count": 28,
   "id": "b79686b3",
   "metadata": {},
   "outputs": [
    {
     "name": "stdout",
     "output_type": "stream",
     "text": [
      "VideoDubber - Saves: 382\n",
      "AutoDubber - Saves: 232\n",
      "Beloga - Saves: 96\n",
      "ResumeBuild - Saves: 73\n",
      "Casablanca - Saves: 50\n",
      "StableLM Zephyr 3B - Saves: 16\n"
     ]
    }
   ],
   "source": [
    "#Sorting the AIs based on \"number of saves\" in descending order.\n",
    "\n",
    "Saved_ai = sorted(Saved_ai, key=lambda x: x[\"saves\"], reverse=True)\n",
    "\n",
    "#printing the final sorted list\n",
    "for ai in Saved_ai:\n",
    "    print(f\"{ai['name']} - Saves: {ai['saves']}\")"
   ]
  },
  {
   "cell_type": "code",
   "execution_count": 29,
   "id": "3a80024c",
   "metadata": {},
   "outputs": [
    {
     "name": "stdout",
     "output_type": "stream",
     "text": [
      "VideoDubber - Saves: 382\n",
      "AutoDubber - Saves: 232\n",
      "Beloga - Saves: 96\n",
      "ResumeBuild - Saves: 73\n",
      "Casablanca - Saves: 50\n",
      "StableLM Zephyr 3B - Saves: 16\n"
     ]
    }
   ],
   "source": [
    "#printing the final sorted list\n",
    "for ai in Saved_ai:\n",
    "    print(f\"{ai['name']} - Saves: {ai['saves']}\")"
   ]
  },
  {
   "cell_type": "code",
   "execution_count": null,
   "id": "c9d99b31",
   "metadata": {},
   "outputs": [],
   "source": []
  }
 ],
 "metadata": {
  "kernelspec": {
   "display_name": "Python 3 (ipykernel)",
   "language": "python",
   "name": "python3"
  },
  "language_info": {
   "codemirror_mode": {
    "name": "ipython",
    "version": 3
   },
   "file_extension": ".py",
   "mimetype": "text/x-python",
   "name": "python",
   "nbconvert_exporter": "python",
   "pygments_lexer": "ipython3",
   "version": "3.11.3"
  }
 },
 "nbformat": 4,
 "nbformat_minor": 5
}
